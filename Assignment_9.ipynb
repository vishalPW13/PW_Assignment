{
 "cells": [
  {
   "cell_type": "markdown",
   "metadata": {},
   "source": [
    "Q1. Explain why we have to use the Exception class while creating a Custom Exception.\n"
   ]
  },
  {
   "cell_type": "code",
   "execution_count": 1,
   "metadata": {},
   "outputs": [
    {
     "data": {
      "text/plain": [
       "'it is essential to use the Exception class as the base class for your custom exception because \\nit helps us to create custom exceptions. we are use Inheritance here to reduces our time'"
      ]
     },
     "execution_count": 1,
     "metadata": {},
     "output_type": "execute_result"
    }
   ],
   "source": [
    "'''it is essential to use the Exception class as the base class for your custom exception because \n",
    "it helps us to create custom exceptions. we are use Inheritance here to reduces our time'''"
   ]
  },
  {
   "cell_type": "markdown",
   "metadata": {},
   "source": [
    "Write a python program to print Python Exception Hierarchy."
   ]
  },
  {
   "cell_type": "code",
   "execution_count": 2,
   "metadata": {},
   "outputs": [
    {
     "name": "stdout",
     "output_type": "stream",
     "text": [
      "Python Exception Hierarchy:\n",
      "BaseException\n",
      "    object\n"
     ]
    }
   ],
   "source": [
    "def print_exception_hierarchy(exception_class, indent=0):\n",
    "    # Print the exception class name with indentation\n",
    "    print(' ' * indent + exception_class.__name__)\n",
    "\n",
    "    # Recursively print the base exception classes\n",
    "    for base_exception in exception_class.__bases__:\n",
    "        print_exception_hierarchy(base_exception, indent + 4)\n",
    "\n",
    "if __name__ == \"__main__\":\n",
    "    # Start from the base Exception class\n",
    "    base_exception = BaseException\n",
    "\n",
    "    # Call the function to print the hierarchy\n",
    "    print(\"Python Exception Hierarchy:\")\n",
    "    print_exception_hierarchy(base_exception)"
   ]
  },
  {
   "cell_type": "markdown",
   "metadata": {},
   "source": [
    "What errors are defined in the ArithmeticError class? Explain any two with an example."
   ]
  },
  {
   "cell_type": "code",
   "execution_count": 3,
   "metadata": {},
   "outputs": [
    {
     "name": "stdout",
     "output_type": "stream",
     "text": [
      "Error: division by zero\n"
     ]
    }
   ],
   "source": [
    "'''The ArithmeticError class is a base class for exceptions related to arithmetic operations in Python'''\n",
    "#ZeroDivisionError\n",
    "dividend = 10\n",
    "divisor = 0\n",
    "\n",
    "try:\n",
    "    result = dividend / divisor\n",
    "except ZeroDivisionError as e:\n",
    "    print(f\"Error: {e}\")\n",
    "\n",
    "#OverflowError\n",
    "import sys\n",
    "\n",
    "try:\n",
    "    max_int = sys.maxsize  # Get the maximum integer value for the current platform\n",
    "    overflowed_result = max_int + 1\n",
    "except OverflowError as e:\n",
    "    print(f\"Error: {e}\")\n"
   ]
  },
  {
   "cell_type": "markdown",
   "metadata": {},
   "source": [
    "Q4. Why LookupError class is used? Explain with an example KeyError and IndexError."
   ]
  },
  {
   "cell_type": "code",
   "execution_count": 4,
   "metadata": {},
   "outputs": [
    {
     "name": "stdout",
     "output_type": "stream",
     "text": [
      "Error: 'grape'\n",
      "Error: list index out of range\n"
     ]
    }
   ],
   "source": [
    "'''The LookupError class is used as a base class for exceptions related to lookup or indexing operations in Python'''\n",
    "#KeyError\n",
    "\n",
    "my_dict = {'apple': 3, 'banana': 5, 'cherry': 2}\n",
    "\n",
    "try:\n",
    "    value = my_dict['grape']\n",
    "except KeyError as e:\n",
    "    print(f\"Error: {e}\")\n",
    "\n",
    "#IndexError\n",
    "my_list = [10, 20, 30, 40, 50]\n",
    "\n",
    "try:\n",
    "    value = my_list[10]\n",
    "except IndexError as e:\n",
    "    print(f\"Error: {e}\")\n"
   ]
  },
  {
   "cell_type": "markdown",
   "metadata": {},
   "source": [
    "Q5. Explain ImportError. What is ModuleNotFoundError?"
   ]
  },
  {
   "cell_type": "code",
   "execution_count": 5,
   "metadata": {},
   "outputs": [
    {
     "name": "stdout",
     "output_type": "stream",
     "text": [
      "Error: No module named 'non_existent_module'\n",
      "Error: No module named 'non_existent_module'\n"
     ]
    }
   ],
   "source": [
    "'''ImportError is a base class for exceptions related to import operations in Python.\n",
    "It is raised when there is a problem with importing a module or when an imported module cannot be found or loaded.'''\n",
    "\n",
    "try:\n",
    "    import non_existent_module  # Try to import a module that does not exist\n",
    "except ImportError as e:\n",
    "    print(f\"Error: {e}\")\n",
    "\n",
    "#ModuleNotFoundError is a subclass of ImportError that specifically indicates that the requested module could not be found.\n",
    "try:\n",
    "    import non_existent_module  # Try to import a module that does not exist\n",
    "except ModuleNotFoundError as e:\n",
    "    print(f\"Error: {e}\")\n"
   ]
  },
  {
   "cell_type": "markdown",
   "metadata": {},
   "source": [
    "Q6. List down some best practices for exception handling in python."
   ]
  },
  {
   "cell_type": "code",
   "execution_count": 6,
   "metadata": {},
   "outputs": [
    {
     "data": {
      "text/plain": [
       "'1. Use Specific Exception Types: Catch only the exceptions you expect and can handle, rather than using a broad except block that catches all exceptions. \\nThis makes your code more robust and easier to debug.\\n\\n\\n2. Custom Exception Classes: Create custom exception classes when needed to encapsulate specific error conditions. \\nThis makes it easier to handle errors in a structured manner and provides more context about the issue.\\n\\n3.Log Exceptions: Always log exceptions or error messages to aid in debugging and monitoring. \\nUse the logging module or a similar logging mechanism to record relevant information.'"
      ]
     },
     "execution_count": 6,
     "metadata": {},
     "output_type": "execute_result"
    }
   ],
   "source": [
    "'''1. Use Specific Exception Types: Catch only the exceptions you expect and can handle, rather than using a broad except block that catches all exceptions. \n",
    "This makes your code more robust and easier to debug.\n",
    "\n",
    "\n",
    "2. Custom Exception Classes: Create custom exception classes when needed to encapsulate specific error conditions. \n",
    "This makes it easier to handle errors in a structured manner and provides more context about the issue.\n",
    "\n",
    "3.Log Exceptions: Always log exceptions or error messages to aid in debugging and monitoring. \n",
    "Use the logging module or a similar logging mechanism to record relevant information.'''\n"
   ]
  }
 ],
 "metadata": {
  "kernelspec": {
   "display_name": "Python 3",
   "language": "python",
   "name": "python3"
  },
  "language_info": {
   "codemirror_mode": {
    "name": "ipython",
    "version": 3
   },
   "file_extension": ".py",
   "mimetype": "text/x-python",
   "name": "python",
   "nbconvert_exporter": "python",
   "pygments_lexer": "ipython3",
   "version": "3.11.2"
  },
  "orig_nbformat": 4
 },
 "nbformat": 4,
 "nbformat_minor": 2
}
