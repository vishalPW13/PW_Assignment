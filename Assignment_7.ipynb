{
 "cells": [
  {
   "cell_type": "markdown",
   "metadata": {},
   "source": [
    "Q1. What is Abstraction in OOps? Explain with an example."
   ]
  },
  {
   "cell_type": "code",
   "execution_count": 6,
   "metadata": {},
   "outputs": [
    {
     "name": "stdout",
     "output_type": "stream",
     "text": [
      "The mileage is 30kmph\n",
      "The mileage is 27kmph \n",
      "The mileage is 25kmph \n",
      "The mileage is 24kmph \n"
     ]
    }
   ],
   "source": [
    "'''Objects in an OOP language provide an abstraction that hides the internal implementation details. Similar to the coffee machine in your kitchen, you just need to know which methods of the object are available to call and which input parameters are needed to trigger a specific operation.'''\n",
    "\n",
    "from abc import ABC, abstractmethod   \n",
    "class Car(ABC):   \n",
    "    def mileage(self):   \n",
    "        pass  \n",
    "  \n",
    "class Tesla(Car):   \n",
    "    def mileage(self):   \n",
    "        print(\"The mileage is 30kmph\")   \n",
    "class Suzuki(Car):   \n",
    "    def mileage(self):   \n",
    "        print(\"The mileage is 25kmph \")   \n",
    "class Duster(Car):   \n",
    "     def mileage(self):   \n",
    "          print(\"The mileage is 24kmph \")   \n",
    "  \n",
    "class Renault(Car):   \n",
    "    def mileage(self):   \n",
    "            print(\"The mileage is 27kmph \")   \n",
    "          \n",
    "# Driver code   \n",
    "t= Tesla ()   \n",
    "t.mileage()   \n",
    "  \n",
    "r = Renault()   \n",
    "r.mileage()   \n",
    "  \n",
    "s = Suzuki()   \n",
    "s.mileage()   \n",
    "d = Duster()   \n",
    "d.mileage()  "
   ]
  },
  {
   "cell_type": "markdown",
   "metadata": {},
   "source": [
    "Q2. Differentiate between Abstraction and Encapsulation. Explain with an example."
   ]
  },
  {
   "cell_type": "code",
   "execution_count": 7,
   "metadata": {},
   "outputs": [
    {
     "data": {
      "text/plain": [
       "'\\nAbstraction:\\n\\nAbstraction is the process of simplifying complex systems by breaking them down into their essential features. \\nIt focuses on capturing the relevant characteristics of an object or system while hiding unnecessary details. \\nIt allows us to represent real-world entities as classes or objects in programming. \\nIn other words, abstraction provides a high-level view or interface that exposes only the necessary information or functionality while concealing the underlying implementation details.\\n\\nExample:\\nLet\\'s consider the concept of a car. In an abstract sense, a car can be thought of as a mode of transportation \\nthat has certain behaviors and attributes. When modeling a car in an object-oriented programming language, \\nwe can create an abstract class called \"Car\" that defines the common properties and methods of all cars, \\nsuch as \"startEngine,\" \"accelerate,\" and \"brake.\" The abstract class may also have abstract methods like \"drive\" \\nthat need to be implemented by the specific types of cars (e.g., sedan, SUV, sports car). Here, \\nthe abstraction hides the inner workings of the car and provides a simplified interface to interact with it.\\n\\nEncapsulation:\\n\\nEncapsulation is the process of bundling data and the methods that operate on that data into a single unit called a class. \\nIt aims to enforce data integrity by controlling access to the data and providing well-defined interfaces to interact with the class. \\nEncapsulation combines data and methods into a single entity, allowing us to achieve data hiding and providing a way to control access to the internal state of an object.\\n\\nExample:\\nConsider a class called \"BankAccount.\" The BankAccount class may have private variables \\nlike \"accountNumber\" and \"balance,\" along with public methods like \"deposit\" and \"withdraw.\" By encapsulating \\nthe data (account number and balance) and the associated methods within the BankAccount class, we can control \\nhow these variables are accessed and modified. The private variables are not directly accessible from outside \\nthe class, and access is typically provided through public methods, which can enforce rules and validations to ensure\\n the integrity of the account data.\\n\\nTo summarize, abstraction focuses on providing a simplified representation or interface, \\nwhile encapsulation combines data and methods into a single unit, controlling access and enforcing data integrity. \\nAbstraction is about hiding unnecessary details, while encapsulation is about hiding the implementation details and exposing \\nonly the necessary'"
      ]
     },
     "execution_count": 7,
     "metadata": {},
     "output_type": "execute_result"
    }
   ],
   "source": [
    "'''\n",
    "Abstraction:\n",
    "\n",
    "Abstraction is the process of simplifying complex systems by breaking them down into their essential features. \n",
    "It focuses on capturing the relevant characteristics of an object or system while hiding unnecessary details. \n",
    "It allows us to represent real-world entities as classes or objects in programming. \n",
    "In other words, abstraction provides a high-level view or interface that exposes only the necessary information or functionality while concealing the underlying implementation details.\n",
    "\n",
    "Example:\n",
    "Let's consider the concept of a car. In an abstract sense, a car can be thought of as a mode of transportation \n",
    "that has certain behaviors and attributes. When modeling a car in an object-oriented programming language, \n",
    "we can create an abstract class called \"Car\" that defines the common properties and methods of all cars, \n",
    "such as \"startEngine,\" \"accelerate,\" and \"brake.\" The abstract class may also have abstract methods like \"drive\" \n",
    "that need to be implemented by the specific types of cars (e.g., sedan, SUV, sports car). Here, \n",
    "the abstraction hides the inner workings of the car and provides a simplified interface to interact with it.\n",
    "\n",
    "Encapsulation:\n",
    "\n",
    "Encapsulation is the process of bundling data and the methods that operate on that data into a single unit called a class. \n",
    "It aims to enforce data integrity by controlling access to the data and providing well-defined interfaces to interact with the class. \n",
    "Encapsulation combines data and methods into a single entity, allowing us to achieve data hiding and providing a way to control access to the internal state of an object.\n",
    "\n",
    "Example:\n",
    "Consider a class called \"BankAccount.\" The BankAccount class may have private variables \n",
    "like \"accountNumber\" and \"balance,\" along with public methods like \"deposit\" and \"withdraw.\" By encapsulating \n",
    "the data (account number and balance) and the associated methods within the BankAccount class, we can control \n",
    "how these variables are accessed and modified. The private variables are not directly accessible from outside \n",
    "the class, and access is typically provided through public methods, which can enforce rules and validations to ensure\n",
    " the integrity of the account data.\n",
    "\n",
    "To summarize, abstraction focuses on providing a simplified representation or interface, \n",
    "while encapsulation combines data and methods into a single unit, controlling access and enforcing data integrity. \n",
    "Abstraction is about hiding unnecessary details, while encapsulation is about hiding the implementation details and exposing \n",
    "only the necessary'''"
   ]
  },
  {
   "cell_type": "markdown",
   "metadata": {},
   "source": [
    "What is abc module in python? Why is it used?"
   ]
  },
  {
   "cell_type": "code",
   "execution_count": 8,
   "metadata": {},
   "outputs": [
    {
     "data": {
      "text/plain": [
       "'ABC stands for Abstract Base Class\\nmain goal of the abstract base class is to provide a standardized way to test whether an object adheres to a given specification.\\n It can also prevent any attempt to instantiate a subclass that doesn’t override a particular method in the superclass. And finally, \\n using an abstract class, \\na class can derive identity from another class without any object inheritance.\\n'"
      ]
     },
     "execution_count": 8,
     "metadata": {},
     "output_type": "execute_result"
    }
   ],
   "source": [
    "'''ABC stands for Abstract Base Class\n",
    "main goal of the abstract base class is to provide a standardized way to test whether an object adheres to a given specification.\n",
    " It can also prevent any attempt to instantiate a subclass that doesn’t override a particular method in the superclass. And finally, \n",
    " using an abstract class, \n",
    "a class can derive identity from another class without any object inheritance.\n",
    "'''"
   ]
  },
  {
   "cell_type": "markdown",
   "metadata": {},
   "source": [
    "Q4. How can we achieve data abstraction?"
   ]
  },
  {
   "cell_type": "code",
   "execution_count": 9,
   "metadata": {},
   "outputs": [
    {
     "data": {
      "text/plain": [
       "'Data abstraction can be achieved in object-oriented programming through the use of abstract classes and interfaces'"
      ]
     },
     "execution_count": 9,
     "metadata": {},
     "output_type": "execute_result"
    }
   ],
   "source": [
    "'''Data abstraction can be achieved in object-oriented programming through the use of abstract classes and interfaces'''\n",
    "\n"
   ]
  },
  {
   "cell_type": "markdown",
   "metadata": {},
   "source": [
    "Can we create an instance of an abstract class? Explain your answer."
   ]
  },
  {
   "cell_type": "code",
   "execution_count": 10,
   "metadata": {},
   "outputs": [
    {
     "name": "stdout",
     "output_type": "stream",
     "text": [
      "Rectangle\n",
      "Area: 15\n",
      "Perimeter: 16\n",
      "\n",
      "Circle\n",
      "Area: 153.86\n",
      "Circumference: 43.96\n"
     ]
    },
    {
     "data": {
      "text/plain": [
       "\" First of all, we have created a class called shape. In that shape class, we create two functions in abstract Mode and again.\\nWe create a class called circal and inhale the properties of shape, overwrite the shape class's function, and go forward.\\nWe create objects of a critical class and do calculations.\""
      ]
     },
     "execution_count": 10,
     "metadata": {},
     "output_type": "execute_result"
    }
   ],
   "source": [
    "from abc import ABC, abstractmethod\n",
    "\n",
    "# Abstract class\n",
    "class Shape(ABC):\n",
    "    @abstractmethod\n",
    "    def area(self):\n",
    "        pass\n",
    "\n",
    "    @abstractmethod\n",
    "    def perimeter(self):\n",
    "        pass\n",
    "\n",
    "# Concrete class\n",
    "class Rectangle(Shape):\n",
    "    def __init__(self, length, width):\n",
    "        self.length = length\n",
    "        self.width = width\n",
    "\n",
    "    def area(self):\n",
    "        return self.length * self.width\n",
    "\n",
    "    def perimeter(self):\n",
    "        return 2 * (self.length + self.width)\n",
    "\n",
    "# Concrete class\n",
    "class Circle(Shape):\n",
    "    def __init__(self, radius):\n",
    "        self.radius = radius\n",
    "\n",
    "    def area(self):\n",
    "        return 3.14 * self.radius * self.radius\n",
    "\n",
    "    def perimeter(self):\n",
    "        return 2 * 3.14 * self.radius\n",
    "\n",
    "# Creating objects and accessing through abstraction\n",
    "rectangle = Rectangle(5, 3)\n",
    "circle = Circle(7)\n",
    "\n",
    "print(\"Rectangle\")\n",
    "print(\"Area:\", rectangle.area())\n",
    "print(\"Perimeter:\", rectangle.perimeter())\n",
    "\n",
    "print(\"\\nCircle\")\n",
    "print(\"Area:\", circle.area())\n",
    "print(\"Circumference:\", circle.perimeter())\n",
    "\n",
    "\n",
    "''' First of all, we have created a class called shape. In that shape class, we create two functions in abstract Mode and again.\n",
    "We create a class called circal and inhale the properties of shape, overwrite the shape class's function, and go forward.\n",
    "We create objects of a critical class and do calculations.'''\n"
   ]
  },
  {
   "cell_type": "markdown",
   "metadata": {},
   "source": []
  }
 ],
 "metadata": {
  "kernelspec": {
   "display_name": "Python 3",
   "language": "python",
   "name": "python3"
  },
  "language_info": {
   "codemirror_mode": {
    "name": "ipython",
    "version": 3
   },
   "file_extension": ".py",
   "mimetype": "text/x-python",
   "name": "python",
   "nbconvert_exporter": "python",
   "pygments_lexer": "ipython3",
   "version": "3.11.2"
  },
  "orig_nbformat": 4
 },
 "nbformat": 4,
 "nbformat_minor": 2
}
