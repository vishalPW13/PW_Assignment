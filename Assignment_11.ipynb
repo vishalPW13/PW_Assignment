{
 "cells": [
  {
   "cell_type": "markdown",
   "metadata": {},
   "source": [
    "Q1. What are the three measures of central tendency?"
   ]
  },
  {
   "cell_type": "markdown",
   "metadata": {},
   "source": [
    "There are three main measures of central tendency:\n",
    "\n",
    "mode\n",
    "\n",
    "median\n",
    "\n",
    "mean\n"
   ]
  },
  {
   "cell_type": "markdown",
   "metadata": {},
   "source": [
    "Q2. What is the difference between the mean, median, and mode? How are they used to measure the\n",
    "central tendency of a dataset?"
   ]
  },
  {
   "cell_type": "markdown",
   "metadata": {},
   "source": [
    "Mode: the most frequent value.\n",
    "Median: the middle number in an ordered dataset.\n",
    "Mean: the sum of all values divided by the total number of values.\n"
   ]
  },
  {
   "cell_type": "markdown",
   "metadata": {},
   "source": [
    "Q3. Measure the three measures of central tendency for the given height data:\n",
    "[178,177,176,177,178.2,178,175,179,180,175,178.9,176.2,177,172.5,178,176.5]"
   ]
  },
  {
   "cell_type": "code",
   "execution_count": 9,
   "metadata": {},
   "outputs": [
    {
     "name": "stdout",
     "output_type": "stream",
     "text": [
      "0    177.0\n",
      "dtype: float64 0    177.01875\n",
      "dtype: float64        0\n",
      "0  177.0\n",
      "1  178.0\n"
     ]
    }
   ],
   "source": [
    "import pandas as pd \n",
    "import numpy as np \n",
    "\n",
    "df = pd.DataFrame([178,177,176,177,178.2,178,175,179,180,175,178.9,176.2,177,172.5,178,176.5])\n",
    "df_mean = df.mean()\n",
    "df_Mode = df.mode()\n",
    "df_median = df.median()\n",
    "print(df_median,df_mean,df_Mode)\n"
   ]
  },
  {
   "cell_type": "markdown",
   "metadata": {},
   "source": [
    "Q4. Find the standard deviation for the given data:\n",
    "[178,177,176,177,178.2,178,175,179,180,175,178.9,176.2,177,172.5,178,176.5]"
   ]
  },
  {
   "cell_type": "code",
   "execution_count": 11,
   "metadata": {},
   "outputs": [
    {
     "data": {
      "text/plain": [
       "0    1.847239\n",
       "dtype: float64"
      ]
     },
     "execution_count": 11,
     "metadata": {},
     "output_type": "execute_result"
    }
   ],
   "source": [
    "df_std =df.std()\n",
    "df_std"
   ]
  },
  {
   "cell_type": "markdown",
   "metadata": {},
   "source": [
    "Q5. How are measures of dispersion such as range, variance, and standard deviation used to describe\n",
    "the spread of a dataset? Provide an example."
   ]
  },
  {
   "cell_type": "code",
   "execution_count": 20,
   "metadata": {},
   "outputs": [
    {
     "name": "stdout",
     "output_type": "stream",
     "text": [
      "0    7.5\n",
      "dtype: float64 0    3.412292\n",
      "dtype: float64 0    1.847239\n",
      "dtype: float64\n"
     ]
    }
   ],
   "source": [
    "'''Range\n",
    "The range of the data is given as the difference between the maximum and the minimum values of the observations in the data. \n",
    "For example, let’s say we have data on the number of customers walking in the store in a week. \n",
    "\n",
    "10, 14, 8, 10, 15, 4, 7\n",
    "\n",
    "Minimum value in data = 7 \n",
    "\n",
    "Maximum Value in the data = 15\n",
    "\n",
    "Range = Maximum Value in the data – Minimum value in the data  \n",
    "\n",
    "           = 15 – 7 \n",
    "\n",
    "           = 8 '''\n",
    "\n",
    "min = df.min()\n",
    "max = df.max()\n",
    "df_ranege = max - min\n",
    "'''The variance of the data is given by measuring the distance of the observed values from the mean of the distribution. \n",
    "Here we are not concerned with the sign of the distance of the point, we are more interested in the magnitude. \n",
    "So, we take squares of the distance from the mean'''\n",
    "df_var = df.var()\n",
    "'''Standard Deviation\n",
    "In the calculation of variance, notice that the units of the variance and the unit of the observations are not the same. \n",
    "So, to remove this problem, we define standard deviation.'''\n",
    "\n",
    "df_std\n",
    "\n",
    "print(df_ranege,df_var,df_std)"
   ]
  },
  {
   "cell_type": "markdown",
   "metadata": {},
   "source": [
    "Q6. What is a Venn diagram?"
   ]
  },
  {
   "cell_type": "markdown",
   "metadata": {},
   "source": [
    "A Venn diagram is an illustration that uses circles to show the relationships among things or finite groups of things. Circles that overlap have a commonality while circles that do not overlap do not share those traits."
   ]
  },
  {
   "cell_type": "markdown",
   "metadata": {},
   "source": [
    "Q7. For the two given sets A = (2,3,4,5,6,7) & B = (0,2,6,8,10). Find:\n",
    "(i) A B\n",
    "(ii) A ⋃ B"
   ]
  },
  {
   "cell_type": "code",
   "execution_count": 21,
   "metadata": {},
   "outputs": [
    {
     "name": "stdout",
     "output_type": "stream",
     "text": [
      "{2, 6} {0, 2, 3, 4, 5, 6, 7, 8, 10}\n"
     ]
    }
   ],
   "source": [
    "A = {2,3,4,5,6,7}\n",
    "B = {0,2,6,8,10}\n",
    "A_inter_B = A.intersection(B)\n",
    "A_union_B= A.union(B)\n",
    "print(A_inter_B,A_union_B)"
   ]
  },
  {
   "cell_type": "markdown",
   "metadata": {},
   "source": [
    "Q8. What do you understand about skewness in data?"
   ]
  },
  {
   "cell_type": "markdown",
   "metadata": {},
   "source": [
    "Skewness is a statistical measure that is used to show whether a distribution is distorted or asymmetrical. If the skewness is right-tailed (meaning the right tail is more pronounced than the left), the skew is positive. In this case, the values are more than zero. "
   ]
  },
  {
   "cell_type": "markdown",
   "metadata": {},
   "source": [
    "Q9. If a data is right skewed then what will be the position of median with respect to mean?"
   ]
  },
  {
   "cell_type": "markdown",
   "metadata": {},
   "source": [
    "If the distribution of data is skewed to the right, the mode is often less than the median, which is less than the mean."
   ]
  },
  {
   "cell_type": "markdown",
   "metadata": {},
   "source": [
    "Q10. Explain the difference between covariance and correlation. How are these measures used in\n",
    "statistical analysis?"
   ]
  },
  {
   "cell_type": "markdown",
   "metadata": {},
   "source": [
    "Covariance and correlation are two terms that are opposed and are both used in statistics and regression analysis. Covariance shows you how the two variables differ, whereas correlation shows you how the two variables are related. \n"
   ]
  },
  {
   "cell_type": "markdown",
   "metadata": {},
   "source": [
    "Q11. What is the formula for calculating the sample mean? Provide an example calculation for a\n",
    "dataset."
   ]
  },
  {
   "cell_type": "code",
   "execution_count": 23,
   "metadata": {},
   "outputs": [
    {
     "data": {
      "text/plain": [
       "69.0"
      ]
     },
     "execution_count": 23,
     "metadata": {},
     "output_type": "execute_result"
    }
   ],
   "source": [
    "#Sample Mean Formula\n",
    "#The sample mean formula is written as\n",
    "#x̄ = ( Σ xi ) / n\n",
    "\n",
    "s = [60, 57, 109, 50]\n",
    "Sample_mean = sum(s)/len(s)"
   ]
  },
  {
   "cell_type": "markdown",
   "metadata": {},
   "source": [
    "Q12. For a normal distribution data what is the relationship between its measure of central tendency?"
   ]
  },
  {
   "cell_type": "markdown",
   "metadata": {},
   "source": [
    "\n",
    "For a normal distribution, the three main measures of central tendency—mean, median, and mode—are all equal. In a perfectly symmetrical normal distribution, the mean, median, and mode all coincide at the center of the distribution."
   ]
  },
  {
   "cell_type": "markdown",
   "metadata": {},
   "source": [
    "Q13. How is covariance different from correlation?"
   ]
  },
  {
   "cell_type": "markdown",
   "metadata": {},
   "source": [
    "\n",
    "Covariance and correlation are both measures that describe the relationship between two variables, but they have some key differences.\n",
    "\n",
    "Definition:\n",
    "\n",
    "Covariance: Covariance is a measure of how much two variables change together. It indicates the direction of the linear relationship between variables. If the covariance is positive, it suggests a positive relationship (as one variable increases, the other tends to increase); if it's negative, it suggests a negative relationship (as one variable increases, the other tends to decrease).\n",
    "Correlation: Correlation is a standardized measure of the strength and direction of the linear relationship between two variables. It ranges from -1 to 1, where -1 indicates a perfect negative correlation, 1 indicates a perfect positive correlation, and 0 indicates no linear correlation.\n",
    "Scale:\n",
    "\n",
    "Covariance: The units of covariance are the product of the units of the two variables. Consequently, the magnitude of covariance is not easily interpretable, and it can be affected by the scale of the variables.\n",
    "Correlation: Being a dimensionless quantity, correlation eliminates the scale effect. It provides a standardized measure that allows for easier interpretation and comparison.\n",
    "Range:\n",
    "\n",
    "Covariance: Covariance can take any value, positive or negative, and the magnitude can be large or small.\n",
    "Correlation: Correlation is always between -1 and 1, providing a clear indication of the strength and direction of the relationship.\n",
    "\n",
    "Interpretation:\n",
    "\n",
    "Covariance: The magnitude of covariance is not easily interpretable, making it challenging to compare the relationships between different pairs of variables.\n",
    "Correlation: The correlation coefficient provides a clear and standardized measure that allows for easier interpretation and comparison between different pairs of variables.\n"
   ]
  },
  {
   "cell_type": "markdown",
   "metadata": {},
   "source": [
    "Q14. How do outliers affect measures of central tendency and dispersion? Provide an example."
   ]
  },
  {
   "cell_type": "code",
   "execution_count": 25,
   "metadata": {},
   "outputs": [
    {
     "name": "stdout",
     "output_type": "stream",
     "text": [
      "0    38.25\n",
      "dtype: float64 0    30.5\n",
      "dtype: float64 0    230.6\n",
      "dtype: float64 0    46.0\n",
      "dtype: float64\n"
     ]
    }
   ],
   "source": [
    "'''Mean: Outliers can pull the mean towards their extreme values. If there are outliers with large values, \n",
    "the mean can be inflated, while outliers with small values can lower the mean.\n",
    "Median: The median is less affected by outliers compared to the mean.\n",
    "\n",
    "'''\n",
    "sample_1 =pd.DataFrame([10,15,46,82])\n",
    "sample_2 = pd.DataFrame([10,15,46,82,1000]) #with outlire\n",
    "mean_1 = sample_1.mean()\n",
    "mean_2 =sample_2.mean()\n",
    "median_1 = sample_1.median()\n",
    "median_2 = sample_2.median()\n",
    "print(mean_1,median_1,mean_2,median_2)"
   ]
  },
  {
   "cell_type": "code",
   "execution_count": null,
   "metadata": {},
   "outputs": [],
   "source": []
  }
 ],
 "metadata": {
  "kernelspec": {
   "display_name": "Python 3",
   "language": "python",
   "name": "python3"
  },
  "language_info": {
   "codemirror_mode": {
    "name": "ipython",
    "version": 3
   },
   "file_extension": ".py",
   "mimetype": "text/x-python",
   "name": "python",
   "nbconvert_exporter": "python",
   "pygments_lexer": "ipython3",
   "version": "3.11.2"
  }
 },
 "nbformat": 4,
 "nbformat_minor": 2
}
